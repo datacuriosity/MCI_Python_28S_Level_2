{
 "cells": [
  {
   "cell_type": "code",
   "execution_count": 1,
   "id": "3a5e0ef6-ddaf-423d-bf53-dc6ad71cd6dc",
   "metadata": {},
   "outputs": [],
   "source": [
    "import pandas as pd\n",
    "import numpy as np\n",
    "import matplotlib.pyplot as plt\n",
    "import seaborn as sns\n",
    "from sklearn.preprocessing import MinMaxScaler\n",
    "from sklearn.model_selection import train_test_split\n",
    "from sklearn.datasets import load_boston, load_iris\n",
    "from sklearn.metrics import mean_squared_error, classification_report"
   ]
  },
  {
   "cell_type": "code",
   "execution_count": 2,
   "id": "b16841ab-a1d9-45e1-b281-03eb0dca2f69",
   "metadata": {},
   "outputs": [],
   "source": [
    "import tensorflow as tf\n",
    "from tensorflow.keras.layers import Dense, Input\n",
    "from tensorflow.keras.models import Sequential"
   ]
  },
  {
   "cell_type": "markdown",
   "id": "66f8e26d-1ce8-4532-85b4-19b87b3cf295",
   "metadata": {},
   "source": [
    "### 1. Regression"
   ]
  },
  {
   "cell_type": "code",
   "execution_count": 3,
   "id": "f460be70-f393-4d4c-83e4-e80ad08f6b68",
   "metadata": {},
   "outputs": [],
   "source": [
    "data = load_boston()"
   ]
  },
  {
   "cell_type": "code",
   "execution_count": 4,
   "id": "13fa3476-9146-459f-989a-07b5af30859f",
   "metadata": {},
   "outputs": [],
   "source": [
    "X, y = data['data'], data['target']"
   ]
  },
  {
   "cell_type": "code",
   "execution_count": 5,
   "id": "38b972ae-3ed2-4817-875f-9ee2158a88eb",
   "metadata": {},
   "outputs": [],
   "source": [
    "X_train, X_test, y_train, y_test = train_test_split(X, y, shuffle=True, test_size=0.15)"
   ]
  },
  {
   "cell_type": "code",
   "execution_count": 6,
   "id": "04fa5e98-b75d-4152-90e1-4444c74dbd48",
   "metadata": {},
   "outputs": [
    {
     "data": {
      "text/plain": [
       "(430, 13)"
      ]
     },
     "execution_count": 6,
     "metadata": {},
     "output_type": "execute_result"
    }
   ],
   "source": [
    "X_train.shape"
   ]
  },
  {
   "cell_type": "code",
   "execution_count": 7,
   "id": "7269b102-334e-43c3-b545-9b19fe4a0e07",
   "metadata": {},
   "outputs": [
    {
     "data": {
      "text/plain": [
       "448"
      ]
     },
     "execution_count": 7,
     "metadata": {},
     "output_type": "execute_result"
    }
   ],
   "source": [
    "14 * 32"
   ]
  },
  {
   "cell_type": "code",
   "execution_count": 8,
   "id": "d061c299-2134-4405-b08e-b306776cffd9",
   "metadata": {},
   "outputs": [
    {
     "name": "stdout",
     "output_type": "stream",
     "text": [
      "Model: \"sequential\"\n",
      "_________________________________________________________________\n",
      "Layer (type)                 Output Shape              Param #   \n",
      "=================================================================\n",
      "dense (Dense)                (None, 32)                448       \n",
      "_________________________________________________________________\n",
      "dense_1 (Dense)              (None, 16)                528       \n",
      "_________________________________________________________________\n",
      "dense_2 (Dense)              (None, 1)                 17        \n",
      "=================================================================\n",
      "Total params: 993\n",
      "Trainable params: 993\n",
      "Non-trainable params: 0\n",
      "_________________________________________________________________\n"
     ]
    }
   ],
   "source": [
    "model = Sequential([\n",
    "    Input(shape=(X_train.shape[1], )),\n",
    "    Dense(32, activation='sigmoid'),\n",
    "    Dense(16, activation='sigmoid'),\n",
    "    Dense(1)\n",
    "])\n",
    "\n",
    "model.compile(loss='mean_squared_error', optimizer='adam', metrics=['accuracy'])\n",
    "model.summary()"
   ]
  },
  {
   "cell_type": "code",
   "execution_count": 9,
   "id": "a462bc5b-d075-4b99-be86-278f62d6bf29",
   "metadata": {},
   "outputs": [],
   "source": [
    "history = model.fit(X_train, y_train, validation_split=0.1, epochs=1000, verbose=0)"
   ]
  },
  {
   "cell_type": "code",
   "execution_count": 10,
   "id": "5a9a9057-3f24-4106-99d0-2c003388f3ad",
   "metadata": {},
   "outputs": [
    {
     "data": {
      "image/png": "[encoded data removed]",
      "text/plain": [
       "<Figure size 576x360 with 1 Axes>"
      ]
     },
     "metadata": {
      "needs_background": "light"
     },
     "output_type": "display_data"
    }
   ],
   "source": [
    "plt.figure(figsize=(8, 5))\n",
    "plt.plot(history.history['loss'], label='Loss')\n",
    "plt.plot(history.history['val_loss'], label='Val_loss')\n",
    "plt.legend(loc='upper left')\n",
    "plt.ylabel('Mean squared error')\n",
    "plt.xlabel('Epochs');"
   ]
  },
  {
   "cell_type": "code",
   "execution_count": 11,
   "id": "5797b126-e7e1-4dcc-b51c-7d9cae9651cd",
   "metadata": {},
   "outputs": [
    {
     "data": {
      "text/html": [
       "<div>\n",
       "<style scoped>\n",
       "    .dataframe tbody tr th:only-of-type {\n",
       "        vertical-align: middle;\n",
       "    }\n",
       "\n",
       "    .dataframe tbody tr th {\n",
       "        vertical-align: top;\n",
       "    }\n",
       "\n",
       "    .dataframe thead th {\n",
       "        text-align: right;\n",
       "    }\n",
       "</style>\n",
       "<table border=\"1\" class=\"dataframe\">\n",
       "  <thead>\n",
       "    <tr style=\"text-align: right;\">\n",
       "      <th></th>\n",
       "      <th>actual</th>\n",
       "      <th>predicted</th>\n",
       "    </tr>\n",
       "  </thead>\n",
       "  <tbody>\n",
       "    <tr>\n",
       "      <th>0</th>\n",
       "      <td>17.4</td>\n",
       "      <td>20.325144</td>\n",
       "    </tr>\n",
       "    <tr>\n",
       "      <th>1</th>\n",
       "      <td>18.4</td>\n",
       "      <td>18.036749</td>\n",
       "    </tr>\n",
       "    <tr>\n",
       "      <th>2</th>\n",
       "      <td>12.7</td>\n",
       "      <td>17.344290</td>\n",
       "    </tr>\n",
       "    <tr>\n",
       "      <th>3</th>\n",
       "      <td>10.4</td>\n",
       "      <td>12.158787</td>\n",
       "    </tr>\n",
       "    <tr>\n",
       "      <th>4</th>\n",
       "      <td>15.0</td>\n",
       "      <td>18.775051</td>\n",
       "    </tr>\n",
       "    <tr>\n",
       "      <th>...</th>\n",
       "      <td>...</td>\n",
       "      <td>...</td>\n",
       "    </tr>\n",
       "    <tr>\n",
       "      <th>71</th>\n",
       "      <td>20.8</td>\n",
       "      <td>15.755115</td>\n",
       "    </tr>\n",
       "    <tr>\n",
       "      <th>72</th>\n",
       "      <td>9.7</td>\n",
       "      <td>12.549266</td>\n",
       "    </tr>\n",
       "    <tr>\n",
       "      <th>73</th>\n",
       "      <td>8.7</td>\n",
       "      <td>10.814241</td>\n",
       "    </tr>\n",
       "    <tr>\n",
       "      <th>74</th>\n",
       "      <td>37.6</td>\n",
       "      <td>46.112629</td>\n",
       "    </tr>\n",
       "    <tr>\n",
       "      <th>75</th>\n",
       "      <td>25.2</td>\n",
       "      <td>28.422087</td>\n",
       "    </tr>\n",
       "  </tbody>\n",
       "</table>\n",
       "<p>76 rows × 2 columns</p>\n",
       "</div>"
      ],
      "text/plain": [
       "    actual  predicted\n",
       "0     17.4  20.325144\n",
       "1     18.4  18.036749\n",
       "2     12.7  17.344290\n",
       "3     10.4  12.158787\n",
       "4     15.0  18.775051\n",
       "..     ...        ...\n",
       "71    20.8  15.755115\n",
       "72     9.7  12.549266\n",
       "73     8.7  10.814241\n",
       "74    37.6  46.112629\n",
       "75    25.2  28.422087\n",
       "\n",
       "[76 rows x 2 columns]"
      ]
     },
     "execution_count": 11,
     "metadata": {},
     "output_type": "execute_result"
    }
   ],
   "source": [
    "y_predicted = [i[0] for i in model.predict(X_test)]\n",
    "df = pd.DataFrame({'actual': y_test, 'predicted': y_predicted}) \n",
    "df"
   ]
  },
  {
   "cell_type": "code",
   "execution_count": 12,
   "id": "4130d16a-fc5b-4a48-8680-f53c82bfacac",
   "metadata": {},
   "outputs": [
    {
     "data": {
      "text/plain": [
       "23.87669336111151"
      ]
     },
     "execution_count": 12,
     "metadata": {},
     "output_type": "execute_result"
    }
   ],
   "source": [
    "mean_squared_error(y_predicted, y_test)"
   ]
  },
  {
   "cell_type": "code",
   "execution_count": 13,
   "id": "ff3214d0-531b-435e-87f8-5939c09b5222",
   "metadata": {},
   "outputs": [
    {
     "data": {
      "image/png": "[encoded data removed]",
      "text/plain": [
       "<Figure size 720x432 with 1 Axes>"
      ]
     },
     "metadata": {
      "needs_background": "light"
     },
     "output_type": "display_data"
    }
   ],
   "source": [
    "df.plot(kind='hist', bins=50, alpha=0.5, figsize=(10, 6));"
   ]
  },
  {
   "cell_type": "code",
   "execution_count": 14,
   "id": "61b6f1b7-299c-4281-b9ea-bb8e17771021",
   "metadata": {},
   "outputs": [
    {
     "data": {
      "text/plain": [
       "<tf.Variable 'dense/kernel:0' shape=(13, 32) dtype=float32, numpy=\n",
       "array([[-3.81303906e-01, -3.45525444e-01,  2.77883291e-01,\n",
       "        -2.71775305e-01,  1.62165895e-01, -4.17892069e-01,\n",
       "         2.33979560e-02, -7.39346743e-02, -1.79365829e-01,\n",
       "        -3.25341552e-01, -3.61953676e-01,  3.16508144e-01,\n",
       "        -2.36826479e-01, -3.70290399e-01, -4.92440373e-01,\n",
       "         1.95824504e-01,  1.98444366e-01,  4.91687655e-03,\n",
       "         4.14751798e-01, -6.66254997e-01, -1.75832406e-01,\n",
       "        -6.40090346e-01,  3.52984309e-01, -2.18408972e-01,\n",
       "         2.51026154e-02,  1.20091140e-01,  1.75231323e-01,\n",
       "        -3.53161663e-01, -3.21596473e-01, -3.36872935e-01,\n",
       "        -7.17192054e-01,  1.26646280e-01],\n",
       "       [-2.72464812e-01,  1.41506493e-01,  2.74198167e-02,\n",
       "        -1.36911914e-01,  3.26891899e-01, -1.55721297e-02,\n",
       "         1.11187384e-01,  6.30126894e-02,  5.75967133e-02,\n",
       "         3.08247060e-01, -3.56227569e-02, -1.40172876e-02,\n",
       "        -1.94813520e-01, -2.69382149e-01,  3.91506450e-03,\n",
       "         2.25932002e-01,  2.55565941e-01,  1.01633608e-01,\n",
       "         1.39258623e-01,  9.65783931e-03, -1.10266298e-01,\n",
       "         2.05513269e-01, -2.11608127e-01, -1.96674824e-01,\n",
       "        -1.01842880e-01,  3.22215617e-01, -3.40216726e-01,\n",
       "        -2.49159738e-01, -2.81568617e-01,  6.85521066e-02,\n",
       "         3.48619312e-01,  8.07554126e-02],\n",
       "       [ 2.43201144e-02,  1.36570632e-02,  1.67435333e-01,\n",
       "        -3.72491509e-01,  5.76631613e-02,  1.50699705e-01,\n",
       "         2.33052969e-01, -2.99727976e-01, -7.26704001e-02,\n",
       "         4.44165349e-01,  3.43335390e-01, -1.42795891e-01,\n",
       "        -9.43049788e-03,  1.31695315e-01,  1.93433428e+00,\n",
       "        -1.98810622e-01, -4.24408615e-02,  2.21794307e-01,\n",
       "         7.85708427e-02, -2.85005718e-01,  3.18695962e-01,\n",
       "         2.61740685e-01,  1.76396859e+00,  2.64749944e-01,\n",
       "         3.12495232e-01,  1.18615955e-01,  1.46126792e-01,\n",
       "         2.77718008e-02,  3.29254270e-01, -8.99185240e-02,\n",
       "         1.58448935e-01,  1.99035168e-01],\n",
       "       [ 1.41629159e-01, -3.08027327e-01,  3.58856887e-01,\n",
       "        -2.57633507e-01,  3.81677181e-01,  5.02814114e-01,\n",
       "         1.73738435e-01,  5.38699329e-02,  6.12393916e-02,\n",
       "        -4.68040593e-02, -1.34037089e+00,  1.64229703e+00,\n",
       "        -1.65471435e-01, -1.46904036e-01, -1.54339349e+00,\n",
       "         2.80913949e-01, -3.48744512e-01,  8.17033052e-02,\n",
       "        -2.36278921e-01,  8.75728667e-01,  1.54461563e-01,\n",
       "         1.33307457e-01, -6.08707249e-01, -3.46197903e-01,\n",
       "         2.78448641e-01,  2.35641539e-01, -3.77725869e-01,\n",
       "         1.74233854e-01, -2.46721849e-01,  2.37595201e-01,\n",
       "         5.87605655e-01, -1.62781075e-01],\n",
       "       [-3.07819277e-01,  1.49250746e-01,  1.98171988e-01,\n",
       "        -6.96840882e-02,  4.64035958e-01,  4.48973924e-01,\n",
       "         3.65971118e-01, -8.21053982e-03, -1.65715367e-01,\n",
       "        -2.74366766e-01,  3.65459770e-01,  3.07210505e-01,\n",
       "         2.57563293e-01, -2.95921355e-01,  1.49867401e-01,\n",
       "         7.77835846e-02,  4.18071449e-02, -5.18466234e-02,\n",
       "        -3.02359223e-01, -1.99456681e-02, -1.09941900e-01,\n",
       "        -3.55841182e-02,  4.38565254e-01, -7.78340697e-02,\n",
       "         2.27762878e-01,  6.66955113e-02, -1.03759997e-01,\n",
       "        -6.85095787e-03, -1.65208519e-01, -1.19675532e-01,\n",
       "        -1.80217117e-01,  2.04735994e-01],\n",
       "       [ 8.39275494e-02, -7.86779225e-02,  1.13081169e+00,\n",
       "         2.78149575e-01,  3.99994195e-01,  1.39550328e-01,\n",
       "         2.23267391e-01,  2.62165606e-01,  3.39363933e-01,\n",
       "         4.53446597e-01, -4.98901993e-01,  7.91677117e-01,\n",
       "         3.34765613e-01,  5.36669374e-01, -2.69104183e-01,\n",
       "        -1.24507964e-01, -2.67026871e-01,  1.68062210e-01,\n",
       "         5.64046912e-02,  4.71389145e-01,  7.79649615e-03,\n",
       "         1.22746758e-01, -4.11166847e-02,  1.10208929e-01,\n",
       "        -3.51983696e-01, -9.09133554e-02,  1.22632772e-01,\n",
       "         2.50838459e-01, -2.89655715e-01, -3.94703448e-02,\n",
       "        -2.90713876e-01, -4.06384766e-02],\n",
       "       [ 1.43296495e-01, -2.27251992e-01,  2.06646286e-02,\n",
       "        -3.43046933e-01, -1.71864051e-02,  2.39779636e-01,\n",
       "         2.92882055e-01,  2.67782450e-01,  9.23818350e-02,\n",
       "         3.28555852e-01, -8.51906464e-02,  7.80567573e-03,\n",
       "        -1.15658149e-01,  5.42515777e-02,  8.35726634e-02,\n",
       "        -1.45360485e-01,  5.42885959e-02,  3.53952587e-01,\n",
       "        -1.30864484e-02, -4.83204015e-02,  2.43077576e-02,\n",
       "         4.96031865e-02,  2.98860997e-01,  2.67897606e-01,\n",
       "        -1.41284496e-01,  4.53111529e-03,  1.71160042e-01,\n",
       "         4.87463772e-02, -3.30200523e-01, -2.23688439e-01,\n",
       "        -3.58667374e-02, -9.25692916e-02],\n",
       "       [ 5.35943508e-01,  1.98038578e-01, -5.44733644e-01,\n",
       "         4.89355177e-02,  2.94547945e-01,  1.28360212e-01,\n",
       "        -2.45297700e-01,  2.11153269e-01, -2.56997049e-01,\n",
       "        -3.49209636e-01, -3.30910623e-01, -1.19904876e+00,\n",
       "         1.62539661e-01,  3.34194303e-01, -3.89905646e-02,\n",
       "         1.72463596e-01, -1.36531383e-01, -8.01554918e-02,\n",
       "        -1.46993752e-05, -9.05779779e-01, -8.90952349e-02,\n",
       "         4.65671897e-01, -2.99357653e-01,  8.50539804e-02,\n",
       "         7.74003565e-02, -1.41311839e-01, -2.74260808e-02,\n",
       "        -1.62708119e-01, -3.55422139e-01, -1.55851945e-01,\n",
       "         5.06434798e-01, -2.40893751e-01],\n",
       "       [ 5.29811502e-01,  1.53875470e-01, -9.19971541e-02,\n",
       "        -1.83222145e-01,  2.52252698e-01,  8.23457122e-01,\n",
       "        -8.43818113e-02, -2.44850367e-01,  3.45834970e-01,\n",
       "         1.85455203e-01,  4.19004470e-01,  3.58318388e-01,\n",
       "         1.81496739e-01,  3.47809881e-01,  5.03496170e-01,\n",
       "         2.80832648e-01, -3.52580220e-01, -2.85985261e-01,\n",
       "         3.60207945e-01,  7.00201631e-01,  2.97464848e-01,\n",
       "         4.98340309e-01,  8.82451892e-01,  1.71782255e-01,\n",
       "         1.77616239e-01,  3.06243777e-01, -1.25078797e-01,\n",
       "         3.87702286e-02, -3.63176852e-01,  9.28336382e-03,\n",
       "         3.49542662e-03,  1.07097536e-01],\n",
       "       [-6.37402907e-02,  2.68058062e-01,  2.42812466e-02,\n",
       "        -1.84181929e-01,  1.87439218e-01, -1.85815781e-01,\n",
       "         2.41738081e-01,  1.73219025e-01, -3.31205428e-01,\n",
       "        -1.51726395e-01,  3.32234949e-01, -5.99244563e-03,\n",
       "        -1.43498734e-01, -7.62010962e-02,  2.75845587e-01,\n",
       "        -2.24438623e-01,  3.19478154e-01,  1.92617834e-01,\n",
       "         2.06333905e-01,  2.57603428e-03,  2.67725945e-01,\n",
       "         1.64661519e-02,  4.11967695e-01, -2.36290112e-01,\n",
       "        -1.22394711e-01,  1.48751318e-01,  1.73951402e-01,\n",
       "         3.05399597e-01,  1.74307764e-01, -3.30606461e-01,\n",
       "        -7.82823041e-02, -1.27866670e-01],\n",
       "       [ 4.53312695e-01,  3.47866356e-01, -5.16045809e-01,\n",
       "        -1.90132827e-01,  2.76752263e-01,  3.22330117e-01,\n",
       "        -1.74106628e-01, -3.64218771e-01,  3.37801576e-01,\n",
       "        -1.63163275e-01, -1.63625643e-01, -2.37383649e-01,\n",
       "        -2.66299546e-02,  2.44235441e-01,  5.01898229e-01,\n",
       "        -1.88340649e-01,  5.31076491e-02, -3.35279942e-01,\n",
       "         2.76470840e-01, -4.38119352e-01,  2.73281038e-01,\n",
       "         2.29544818e-01,  9.40614864e-02, -4.00034785e-02,\n",
       "         7.80121982e-02, -1.06918812e-01,  6.72488241e-03,\n",
       "         1.47828937e-01, -3.13614637e-01,  4.78917360e-02,\n",
       "        -2.52836019e-01,  8.57806504e-02],\n",
       "       [ 5.40828884e-01,  3.56170833e-01, -7.87846558e-03,\n",
       "         6.69796318e-02, -7.85298422e-02,  2.74069846e-01,\n",
       "        -1.02176696e-01,  2.48381019e-01, -2.60730892e-01,\n",
       "         1.77216887e-01, -1.67012319e-01,  1.93313491e-02,\n",
       "        -2.95460671e-01,  3.91023964e-01, -2.15415552e-01,\n",
       "        -5.53335547e-02, -1.05817884e-01,  3.39488328e-01,\n",
       "        -9.44196060e-02,  4.03685570e-02,  2.53536701e-01,\n",
       "         1.72837019e-01, -2.92166501e-01, -2.25596234e-01,\n",
       "        -2.77019918e-01,  2.70433724e-01,  1.15572503e-02,\n",
       "         1.91838622e-01,  3.43465745e-01, -7.05910027e-02,\n",
       "         1.21621847e-01, -2.35722482e-01],\n",
       "       [-2.24256814e-01, -1.56788081e-01, -9.09000516e-01,\n",
       "        -6.88531473e-02, -2.11151436e-01, -2.01480433e-01,\n",
       "        -8.69713202e-02,  2.30635047e-01, -2.52116501e-01,\n",
       "        -1.08787751e+00,  2.68692195e-01, -1.31680524e+00,\n",
       "        -1.98683247e-01, -3.76279384e-01,  5.57231128e-01,\n",
       "        -3.18380386e-01, -2.47911066e-01,  3.12075555e-01,\n",
       "         1.65949106e-01, -5.78219116e-01, -1.19804472e-01,\n",
       "        -3.81981432e-01,  5.39304912e-01, -2.16099665e-01,\n",
       "         8.84686708e-02,  1.35300279e-01,  2.84129977e-01,\n",
       "        -1.49044603e-01, -1.10636055e-02, -1.31988347e-01,\n",
       "        -1.06584322e+00,  2.21807539e-01]], dtype=float32)>"
      ]
     },
     "execution_count": 14,
     "metadata": {},
     "output_type": "execute_result"
    }
   ],
   "source": [
    "model.weights[0]"
   ]
  },
  {
   "cell_type": "code",
   "execution_count": 15,
   "id": "d602893c-e766-46b2-bd5c-94fcc979aff9",
   "metadata": {},
   "outputs": [
    {
     "data": {
      "text/plain": [
       "<tf.Variable 'dense/bias:0' shape=(32,) dtype=float32, numpy=\n",
       "array([ 1.13914184e-01,  0.00000000e+00,  1.99176982e-01, -3.32775302e-02,\n",
       "        1.15659304e-01,  2.91574687e-01,  1.04187801e-01,  0.00000000e+00,\n",
       "        0.00000000e+00,  2.49358609e-01, -1.05203530e-02,  4.83235903e-02,\n",
       "        0.00000000e+00,  5.30097224e-02,  8.65683705e-02, -1.47392021e-17,\n",
       "        0.00000000e+00,  0.00000000e+00,  9.47492104e-03,  1.36902019e-01,\n",
       "        0.00000000e+00,  1.55081183e-01,  4.77051064e-02,  0.00000000e+00,\n",
       "        2.33170942e-28,  0.00000000e+00,  3.90849151e-02,  0.00000000e+00,\n",
       "        0.00000000e+00,  0.00000000e+00,  6.68970570e-02, -1.07212242e-24],\n",
       "      dtype=float32)>"
      ]
     },
     "execution_count": 15,
     "metadata": {},
     "output_type": "execute_result"
    }
   ],
   "source": [
    "model.weights[1]"
   ]
  },
  {
   "cell_type": "code",
   "execution_count": 16,
   "id": "58b10642-90b2-4580-a020-cc4f4d459410",
   "metadata": {},
   "outputs": [
    {
     "data": {
      "text/plain": [
       "<tf.Variable 'dense_1/kernel:0' shape=(32, 16) dtype=float32, numpy=\n",
       "array([[-0.40256014, -0.21222383,  0.00316343, -0.65128636,  0.29282656,\n",
       "         0.45861304,  0.264941  , -0.1905199 ,  0.2988348 , -0.07588252,\n",
       "         0.34948367,  0.19830087, -0.50482935, -0.37018353,  1.1652642 ,\n",
       "        -0.18880591],\n",
       "       [ 0.01309461, -0.04194472, -0.28660864,  0.07692453, -0.5774404 ,\n",
       "        -0.48486975, -0.1500303 , -0.31901208,  0.6204978 , -0.2022106 ,\n",
       "        -0.07180616, -0.2646256 , -0.56503683, -0.41259548,  0.09264533,\n",
       "         0.09450278],\n",
       "       [-1.6713747 , -0.0474883 , -0.24575387, -0.19451743,  2.44146   ,\n",
       "         2.53931   ,  2.1742508 ,  0.33192778,  0.06798993,  2.618649  ,\n",
       "         1.8503225 ,  1.0147148 , -0.4896144 , -0.29252735, -0.61159855,\n",
       "         1.9123856 ],\n",
       "       [-0.03012511, -0.26814675,  0.04851545,  0.22609892, -0.13510992,\n",
       "         0.13939066,  0.16248527,  0.26533353,  0.31772766,  0.05722508,\n",
       "        -0.256741  , -0.08154496,  0.15855129, -0.35160577, -0.25048488,\n",
       "         0.15735504],\n",
       "       [ 0.5091155 , -0.67839634, -0.29188693, -0.5329133 , -0.13369715,\n",
       "        -0.3457406 , -0.4385781 ,  0.20932962,  0.33951154, -0.55705136,\n",
       "        -0.52646035,  0.15341966, -0.49329385, -0.56002253,  0.11100217,\n",
       "         0.02476758],\n",
       "       [-0.97574073, -1.6219687 , -1.7397699 , -1.588276  ,  0.9829618 ,\n",
       "         0.8785409 ,  0.9745178 , -0.5154351 ,  1.0811816 ,  0.91865766,\n",
       "         0.62333274,  0.36732823, -0.81577   , -1.5159811 ,  0.54702693,\n",
       "         1.2284199 ],\n",
       "       [ 0.18631196, -0.04353423, -0.7189963 , -0.4999127 , -0.20577234,\n",
       "        -0.4313937 , -0.1836087 ,  0.21016958,  0.28829545, -0.3877888 ,\n",
       "        -0.2105031 , -0.2751936 , -0.18326434, -0.70594245, -0.07943887,\n",
       "        -0.37589732],\n",
       "       [ 0.3722538 ,  0.0683887 , -0.18928437, -0.10864417, -0.26057258,\n",
       "        -0.36202893, -0.45895287, -0.15090352,  0.48398617, -0.37789118,\n",
       "        -0.11908421, -0.10323673, -0.42885867, -0.23047517,  0.33049774,\n",
       "        -0.04048277],\n",
       "       [ 0.31095043, -0.11540811, -0.00634623,  0.3242651 ,  0.34803745,\n",
       "         0.3231016 , -0.31917065,  0.13404542,  0.30620745,  0.04729694,\n",
       "        -0.31946814,  0.30336085,  0.2783431 , -0.15858021, -0.19764334,\n",
       "        -0.09849095],\n",
       "       [-1.1503217 , -0.15616663, -0.15572765, -0.13606754,  0.8896229 ,\n",
       "         1.123336  ,  1.7708493 ,  1.3730537 ,  0.24988152,  1.1181138 ,\n",
       "         1.4676666 ,  1.3737507 , -0.5199476 , -0.2909141 ,  0.74842167,\n",
       "         1.4171934 ],\n",
       "       [ 0.39700916, -0.18119162, -0.17132653, -0.5151614 , -0.45590526,\n",
       "        -0.9051304 , -0.61152875, -0.03358113,  0.41177762, -0.5559565 ,\n",
       "        -0.2248306 , -0.51515925, -0.27273843, -0.34224325,  0.05836431,\n",
       "        -0.20847505],\n",
       "       [-2.0800993 , -0.46874955, -0.186817  , -0.05837791,  2.5106745 ,\n",
       "         2.387272  ,  1.1971518 , -0.1190388 ,  0.20201689,  2.051438  ,\n",
       "         2.5128195 ,  1.6659553 , -0.17697082, -0.752052  ,  0.3168469 ,\n",
       "         2.4187474 ],\n",
       "       [ 0.12074238,  0.03341436,  0.3096299 ,  0.14628953, -0.2799085 ,\n",
       "        -0.20466366,  0.23731509, -0.12260307,  0.10169041,  0.14214024,\n",
       "         0.14931491,  0.01158422,  0.20563242,  0.2794449 , -0.28842252,\n",
       "         0.02008432],\n",
       "       [-0.4114233 , -0.5309417 , -0.54173744, -0.12276191, -0.20795043,\n",
       "         0.27639672,  0.71458215, -0.05228013,  0.66827404, -0.04593691,\n",
       "         0.2729986 ,  0.5356017 ,  0.03689874, -0.2690287 ,  1.2723564 ,\n",
       "         0.09306364],\n",
       "       [ 0.9676538 , -0.618499  , -0.7046794 , -0.81255704, -1.4033535 ,\n",
       "        -0.7088468 , -0.06038938, -0.1188025 ,  0.96879274, -0.92491424,\n",
       "        -1.0217286 , -0.55585015, -0.51400125, -0.6729031 , -0.26109162,\n",
       "        -0.8097045 ],\n",
       "       [-0.18946896,  0.30180404,  0.04307601, -0.29365066,  0.32048318,\n",
       "         0.1064046 , -0.30718875,  0.01926449, -0.31749448,  0.10919836,\n",
       "        -0.34696043, -0.19624129, -0.29352328,  0.06347981,  0.03606507,\n",
       "         0.04453683],\n",
       "       [ 0.24036701,  0.15289743, -0.5974154 , -0.24011718, -0.22000343,\n",
       "        -0.60623735, -0.4602829 , -0.12387328,  0.7116317 ,  0.02369663,\n",
       "        -0.31814027, -0.27842516, -0.52252895,  0.00935746,  0.33002532,\n",
       "        -0.4104609 ],\n",
       "       [ 0.09240184,  0.02016924, -0.10587551, -0.2634402 , -0.06838058,\n",
       "        -0.3360946 , -0.53834796, -0.38980237,  0.11378693, -0.2973736 ,\n",
       "        -0.41424108, -0.20986682, -0.2790639 , -0.22092156, -0.08435494,\n",
       "        -0.13624276],\n",
       "       [ 0.16651282, -0.08473829, -0.1650998 , -0.7241067 , -0.55963695,\n",
       "        -0.22558355, -0.18997537,  0.2904851 ,  0.89867115, -0.5369035 ,\n",
       "        -0.65427464,  0.15754814, -0.4799036 , -0.50087774, -0.33629203,\n",
       "        -0.4722734 ],\n",
       "       [-0.6810427 , -0.68273354, -0.64683306, -0.73322606,  1.3045826 ,\n",
       "         1.6375225 ,  1.9398807 ,  1.2777282 ,  2.728393  ,  1.8510492 ,\n",
       "         1.1226664 ,  1.342701  , -0.42879462, -0.04145982,  1.2368611 ,\n",
       "         1.1089898 ],\n",
       "       [ 0.03963381,  0.14350773,  0.00724943, -0.41112408, -0.3877317 ,\n",
       "        -0.23956269, -0.24059623, -0.23207313,  0.49313238, -0.31506723,\n",
       "        -0.45405513, -0.18827456, -0.09331582, -0.3181757 , -0.17946632,\n",
       "        -0.17905147],\n",
       "       [-0.21082816, -0.6986097 , -0.73232794, -0.69496006,  0.6698011 ,\n",
       "         0.10397498,  0.5595106 ,  0.3235853 ,  0.52541715, -0.03041345,\n",
       "         0.53305286,  0.30767468, -0.53918666, -0.94643635,  0.9688526 ,\n",
       "         0.19143671],\n",
       "       [ 0.7525633 , -0.5196576 , -0.60627913, -0.09195047, -0.5930472 ,\n",
       "        -0.67819595, -0.33249095,  0.15330786,  0.7553271 , -0.8379948 ,\n",
       "        -0.52001595, -0.5695495 , -0.19490883,  0.07258536, -0.19355305,\n",
       "        -0.973282  ],\n",
       "       [ 0.23372164, -0.07064822, -0.06673533,  0.24526563,  0.04122373,\n",
       "         0.16769835,  0.20126417, -0.13563952, -0.02919015,  0.06052396,\n",
       "        -0.22208709,  0.03115866, -0.17021982, -0.2652619 ,  0.3076537 ,\n",
       "         0.30089906],\n",
       "       [ 0.09861451, -0.13358806,  0.04913774,  0.35195306,  0.22947761,\n",
       "         0.04552004, -0.03625995, -0.33967966, -0.34875286,  0.27403298,\n",
       "        -0.05210158,  0.2003043 ,  0.00688764,  0.25948742,  0.15514633,\n",
       "         0.04841349],\n",
       "       [ 0.25005975, -0.4541071 , -0.5613603 , -0.43509305, -0.3890693 ,\n",
       "        -0.50681096, -0.15928493,  0.01476407,  0.44421396, -0.05768551,\n",
       "        -0.54018825, -0.22310957, -0.12106752, -0.13586293,  0.11050083,\n",
       "        -0.47286463],\n",
       "       [ 0.4565306 , -0.4840035 , -0.3503702 ,  0.0206352 , -0.24056038,\n",
       "        -0.4460192 , -0.02615711,  0.15513264,  0.6798059 , -0.50725806,\n",
       "        -0.11229887,  0.01158859, -0.23699719, -0.2654616 ,  0.052953  ,\n",
       "        -0.4334538 ],\n",
       "       [ 0.12646821,  0.03708245, -0.25703722, -0.06803554, -0.05491119,\n",
       "        -0.6104124 ,  0.07152032,  0.07276553,  0.3815181 , -0.6624475 ,\n",
       "        -0.5888775 , -0.23825383,  0.01769286, -0.42198983, -0.12514272,\n",
       "        -0.5231277 ],\n",
       "       [ 0.06657378, -0.31187767, -0.07059299, -0.15998359, -0.5879642 ,\n",
       "        -0.4923158 , -0.07693421,  0.00655228,  0.7835325 , -0.23176187,\n",
       "        -0.29646236, -0.06391685, -0.10843135, -0.51939553, -0.00971802,\n",
       "        -0.33330756],\n",
       "       [-0.14479676, -0.29788238,  0.02765802, -0.1690656 ,  0.30255023,\n",
       "         0.00928867,  0.2593213 , -0.30219737,  0.1758804 , -0.03826082,\n",
       "        -0.19929846, -0.11886987, -0.02533346, -0.0534589 , -0.13586037,\n",
       "         0.25190464],\n",
       "       [-0.57248664, -0.11730742, -0.1091061 ,  0.04507066,  0.38396126,\n",
       "         1.1340623 ,  0.95795953,  1.1320219 ,  0.1850515 ,  0.86507785,\n",
       "         0.7223109 ,  0.34190133, -0.20551997, -0.05631582,  0.5050124 ,\n",
       "         0.12700893],\n",
       "       [ 0.15010121,  0.2432541 , -0.12194896, -0.05642697, -0.07307318,\n",
       "        -0.05125764, -0.25710022, -0.12985697,  0.03076577,  0.20126382,\n",
       "        -0.28236628, -0.03045818,  0.14084828,  0.24496159,  0.11883843,\n",
       "        -0.2567376 ]], dtype=float32)>"
      ]
     },
     "execution_count": 16,
     "metadata": {},
     "output_type": "execute_result"
    }
   ],
   "source": [
    "model.weights[2]"
   ]
  },
  {
   "cell_type": "code",
   "execution_count": 17,
   "id": "1691fd09-1fb0-4543-bfdc-8a73dc277959",
   "metadata": {},
   "outputs": [
    {
     "data": {
      "text/plain": [
       "<tf.Variable 'dense_1/bias:0' shape=(16,) dtype=float32, numpy=\n",
       "array([ 0.3156785 , -0.19826332, -0.26321998, -0.2717388 , -0.37237975,\n",
       "       -0.35631207, -0.20141844, -0.04802746,  0.44300392, -0.3143146 ,\n",
       "       -0.29953092, -0.11748472, -0.23822726, -0.19947593, -0.01607064,\n",
       "       -0.22690387], dtype=float32)>"
      ]
     },
     "execution_count": 17,
     "metadata": {},
     "output_type": "execute_result"
    }
   ],
   "source": [
    "model.weights[3]"
   ]
  },
  {
   "cell_type": "code",
   "execution_count": 18,
   "id": "8a4fe706-bae4-4a18-90ad-b210b3ab20b3",
   "metadata": {},
   "outputs": [],
   "source": [
    "from tensorflow.keras.models import save_model, load_model"
   ]
  },
  {
   "cell_type": "code",
   "execution_count": 19,
   "id": "41427916-5f19-4c66-b5a8-c66d33b7037e",
   "metadata": {},
   "outputs": [],
   "source": [
    "save_model(model, 'boston_model.h5')"
   ]
  },
  {
   "cell_type": "code",
   "execution_count": null,
   "id": "9f8c7e16-9577-4cf5-a60e-0475667a5816",
   "metadata": {},
   "outputs": [],
   "source": []
  },
  {
   "cell_type": "code",
   "execution_count": null,
   "id": "5a3cd32c-28c3-4293-a73d-3d5eb9271846",
   "metadata": {},
   "outputs": [],
   "source": []
  },
  {
   "cell_type": "code",
   "execution_count": null,
   "id": "3063dc7a-93f4-4474-a296-35b2d53168af",
   "metadata": {},
   "outputs": [],
   "source": []
  },
  {
   "cell_type": "code",
   "execution_count": null,
   "id": "3ed36692-efc9-4518-bbd6-f67531fe0765",
   "metadata": {},
   "outputs": [],
   "source": []
  },
  {
   "cell_type": "markdown",
   "id": "10d3190e-6236-4055-8c51-1ed81907ac0d",
   "metadata": {},
   "source": [
    "### Deploy"
   ]
  },
  {
   "cell_type": "code",
   "execution_count": 20,
   "id": "50555970-f66c-4aaf-9e0e-23344e94cf08",
   "metadata": {},
   "outputs": [
    {
     "data": {
      "text/plain": [
       "array([[3.83518e+01, 0.00000e+00, 1.81000e+01, 0.00000e+00, 6.93000e-01,\n",
       "        5.45300e+00, 1.00000e+02, 1.48960e+00, 2.40000e+01, 6.66000e+02,\n",
       "        2.02000e+01, 3.96900e+02, 3.05900e+01],\n",
       "       [6.37960e-01, 0.00000e+00, 8.14000e+00, 0.00000e+00, 5.38000e-01,\n",
       "        6.09600e+00, 8.45000e+01, 4.46190e+00, 4.00000e+00, 3.07000e+02,\n",
       "        2.10000e+01, 3.80020e+02, 1.02600e+01]])"
      ]
     },
     "execution_count": 20,
     "metadata": {},
     "output_type": "execute_result"
    }
   ],
   "source": [
    "A = X_train[1:3, :]\n",
    "A"
   ]
  },
  {
   "cell_type": "code",
   "execution_count": 21,
   "id": "53f2c232-3432-4b8b-a29e-8a0aea416eb3",
   "metadata": {},
   "outputs": [],
   "source": [
    "housing_model = load_model('boston_model.h5')\n",
    "\n",
    "def housing_price_prediction(X):\n",
    "  \n",
    "    return housing_model.predict(X)"
   ]
  },
  {
   "cell_type": "code",
   "execution_count": 31,
   "id": "d8113666-58a1-4254-9bde-ee137981dad8",
   "metadata": {},
   "outputs": [
    {
     "name": "stdout",
     "output_type": "stream",
     "text": [
      "36.6 ms ± 586 µs per loop (mean ± std. dev. of 7 runs, 10 loops each)\n"
     ]
    }
   ],
   "source": [
    "%timeit housing_price_prediction(X_train[10:100, :])"
   ]
  },
  {
   "cell_type": "markdown",
   "id": "b13cbaba-b3c6-41e3-967c-e9a3450c61a7",
   "metadata": {},
   "source": [
    "### 2. Classification "
   ]
  },
  {
   "cell_type": "code",
   "execution_count": null,
   "id": "d3db1e90-2118-413f-bf43-b0a0b082e95f",
   "metadata": {},
   "outputs": [],
   "source": [
    "iris = load_iris()"
   ]
  }
 ],
 "metadata": {
  "kernelspec": {
   "display_name": "Python 3",
   "language": "python",
   "name": "python3"
  },
  "language_info": {
   "codemirror_mode": {
    "name": "ipython",
    "version": 3
   },
   "file_extension": ".py",
   "mimetype": "text/x-python",
   "name": "python",
   "nbconvert_exporter": "python",
   "pygments_lexer": "ipython3",
   "version": "3.7.10"
  }
 },
 "nbformat": 4,
 "nbformat_minor": 5
}
